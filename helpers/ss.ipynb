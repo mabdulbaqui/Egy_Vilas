{
 "cells": [
  {
   "cell_type": "code",
   "execution_count": 15,
   "metadata": {},
   "outputs": [
    {
     "name": "stdout",
     "output_type": "stream",
     "text": [
      "The original list 1 : ['bathrooms_4', 'bathrooms_2']\n",
      "The original list 2 : ['bathrooms', 'bird', 'cat', 'snake']\n"
     ]
    },
    {
     "data": {
      "text/plain": [
       "[]"
      ]
     },
     "execution_count": 15,
     "metadata": {},
     "output_type": "execute_result"
    }
   ],
   "source": [
    "animals = [\"bathrooms_4\", \"bathrooms_2\"]\n",
    "pets = [\"bathrooms\", \"bird\", \"cat\", \"snake\"]\n",
    "\n",
    "\n",
    "print(\"The original list 1 : \" + str(animals))\n",
    "print(\"The original list 2 : \" + str(pets))\n",
    "res = []\n",
    "for a in animals:\n",
    "    for p in pets:\n",
    "        if a == p:\n",
    "            res.append(a)\n",
    "res\n"
   ]
  },
  {
   "cell_type": "code",
   "execution_count": 19,
   "metadata": {},
   "outputs": [
    {
     "name": "stdout",
     "output_type": "stream",
     "text": [
      "[]\n"
     ]
    }
   ],
   "source": []
  }
 ],
 "metadata": {
  "interpreter": {
   "hash": "3f60c65fed9d243006be7bd079673b3221a7f0aa7fbd22f697d3a76dde06dec3"
  },
  "kernelspec": {
   "display_name": "Python 3.9.1 64-bit",
   "language": "python",
   "name": "python3"
  },
  "language_info": {
   "codemirror_mode": {
    "name": "ipython",
    "version": 3
   },
   "file_extension": ".py",
   "mimetype": "text/x-python",
   "name": "python",
   "nbconvert_exporter": "python",
   "pygments_lexer": "ipython3",
   "version": "3.9.1"
  },
  "orig_nbformat": 4
 },
 "nbformat": 4,
 "nbformat_minor": 2
}
